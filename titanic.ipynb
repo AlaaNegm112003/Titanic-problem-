{
 "cells": [
  {
   "cell_type": "code",
   "execution_count": 1,
   "id": "7ccc657f",
   "metadata": {
    "execution": {
     "iopub.execute_input": "2024-08-05T00:51:12.362022Z",
     "iopub.status.busy": "2024-08-05T00:51:12.361616Z",
     "iopub.status.idle": "2024-08-05T00:51:15.360452Z",
     "shell.execute_reply": "2024-08-05T00:51:15.359396Z"
    },
    "papermill": {
     "duration": 3.014081,
     "end_time": "2024-08-05T00:51:15.363261",
     "exception": false,
     "start_time": "2024-08-05T00:51:12.349180",
     "status": "completed"
    },
    "tags": []
   },
   "outputs": [],
   "source": [
    "import pandas as pd\n",
    "import numpy as np\n",
    "import matplotlib.pyplot as plt\n",
    "import seaborn as sns\n",
    "%matplotlib inline\n",
    "import warnings\n",
    "warnings.filterwarnings(\"ignore\")\n",
    "from sklearn.preprocessing import OneHotEncoder, StandardScaler\n",
    "from sklearn.metrics import accuracy_score, precision_score,roc_auc_score,confusion_matrix, classification_report\n",
    "from sklearn.model_selection import KFold, cross_val_score, train_test_split\n",
    "import optuna"
   ]
  },
  {
   "cell_type": "code",
   "execution_count": 2,
   "id": "b044932f",
   "metadata": {
    "execution": {
     "iopub.execute_input": "2024-08-05T00:51:15.389621Z",
     "iopub.status.busy": "2024-08-05T00:51:15.388852Z",
     "iopub.status.idle": "2024-08-05T00:51:15.432883Z",
     "shell.execute_reply": "2024-08-05T00:51:15.431597Z"
    },
    "papermill": {
     "duration": 0.0619,
     "end_time": "2024-08-05T00:51:15.435792",
     "exception": false,
     "start_time": "2024-08-05T00:51:15.373892",
     "status": "completed"
    },
    "tags": []
   },
   "outputs": [],
   "source": [
    "training_data = pd.read_csv('/kaggle/input/titanic/train.csv')\n",
    "test_data = pd.read_csv('/kaggle/input/titanic/test.csv')\n",
    "output_data=pd.read_csv('/kaggle/input/titanic/gender_submission.csv')"
   ]
  },
  {
   "cell_type": "code",
   "execution_count": 3,
   "id": "d9cf9f0c",
   "metadata": {
    "execution": {
     "iopub.execute_input": "2024-08-05T00:51:15.460140Z",
     "iopub.status.busy": "2024-08-05T00:51:15.458977Z",
     "iopub.status.idle": "2024-08-05T00:51:15.485259Z",
     "shell.execute_reply": "2024-08-05T00:51:15.484040Z"
    },
    "papermill": {
     "duration": 0.041094,
     "end_time": "2024-08-05T00:51:15.488156",
     "exception": false,
     "start_time": "2024-08-05T00:51:15.447062",
     "status": "completed"
    },
    "tags": []
   },
   "outputs": [
    {
     "data": {
      "text/html": [
       "<div>\n",
       "<style scoped>\n",
       "    .dataframe tbody tr th:only-of-type {\n",
       "        vertical-align: middle;\n",
       "    }\n",
       "\n",
       "    .dataframe tbody tr th {\n",
       "        vertical-align: top;\n",
       "    }\n",
       "\n",
       "    .dataframe thead th {\n",
       "        text-align: right;\n",
       "    }\n",
       "</style>\n",
       "<table border=\"1\" class=\"dataframe\">\n",
       "  <thead>\n",
       "    <tr style=\"text-align: right;\">\n",
       "      <th></th>\n",
       "      <th>PassengerId</th>\n",
       "      <th>Survived</th>\n",
       "    </tr>\n",
       "  </thead>\n",
       "  <tbody>\n",
       "    <tr>\n",
       "      <th>0</th>\n",
       "      <td>892</td>\n",
       "      <td>0</td>\n",
       "    </tr>\n",
       "    <tr>\n",
       "      <th>1</th>\n",
       "      <td>893</td>\n",
       "      <td>1</td>\n",
       "    </tr>\n",
       "    <tr>\n",
       "      <th>2</th>\n",
       "      <td>894</td>\n",
       "      <td>0</td>\n",
       "    </tr>\n",
       "    <tr>\n",
       "      <th>3</th>\n",
       "      <td>895</td>\n",
       "      <td>0</td>\n",
       "    </tr>\n",
       "    <tr>\n",
       "      <th>4</th>\n",
       "      <td>896</td>\n",
       "      <td>1</td>\n",
       "    </tr>\n",
       "  </tbody>\n",
       "</table>\n",
       "</div>"
      ],
      "text/plain": [
       "   PassengerId  Survived\n",
       "0          892         0\n",
       "1          893         1\n",
       "2          894         0\n",
       "3          895         0\n",
       "4          896         1"
      ]
     },
     "execution_count": 3,
     "metadata": {},
     "output_type": "execute_result"
    }
   ],
   "source": [
    "output_data.head()"
   ]
  },
  {
   "cell_type": "code",
   "execution_count": 4,
   "id": "23aa277f",
   "metadata": {
    "execution": {
     "iopub.execute_input": "2024-08-05T00:51:15.514760Z",
     "iopub.status.busy": "2024-08-05T00:51:15.514268Z",
     "iopub.status.idle": "2024-08-05T00:51:15.521859Z",
     "shell.execute_reply": "2024-08-05T00:51:15.520650Z"
    },
    "papermill": {
     "duration": 0.025746,
     "end_time": "2024-08-05T00:51:15.524802",
     "exception": false,
     "start_time": "2024-08-05T00:51:15.499056",
     "status": "completed"
    },
    "tags": []
   },
   "outputs": [
    {
     "data": {
      "text/plain": [
       "(891, 12)"
      ]
     },
     "execution_count": 4,
     "metadata": {},
     "output_type": "execute_result"
    }
   ],
   "source": [
    "training_data.head()\n",
    "training_data.shape"
   ]
  },
  {
   "cell_type": "code",
   "execution_count": 5,
   "id": "37a2b051",
   "metadata": {
    "execution": {
     "iopub.execute_input": "2024-08-05T00:51:15.551448Z",
     "iopub.status.busy": "2024-08-05T00:51:15.551054Z",
     "iopub.status.idle": "2024-08-05T00:51:15.570141Z",
     "shell.execute_reply": "2024-08-05T00:51:15.568916Z"
    },
    "papermill": {
     "duration": 0.033839,
     "end_time": "2024-08-05T00:51:15.572726",
     "exception": false,
     "start_time": "2024-08-05T00:51:15.538887",
     "status": "completed"
    },
    "tags": []
   },
   "outputs": [
    {
     "data": {
      "text/html": [
       "<div>\n",
       "<style scoped>\n",
       "    .dataframe tbody tr th:only-of-type {\n",
       "        vertical-align: middle;\n",
       "    }\n",
       "\n",
       "    .dataframe tbody tr th {\n",
       "        vertical-align: top;\n",
       "    }\n",
       "\n",
       "    .dataframe thead th {\n",
       "        text-align: right;\n",
       "    }\n",
       "</style>\n",
       "<table border=\"1\" class=\"dataframe\">\n",
       "  <thead>\n",
       "    <tr style=\"text-align: right;\">\n",
       "      <th></th>\n",
       "      <th>PassengerId</th>\n",
       "      <th>Pclass</th>\n",
       "      <th>Name</th>\n",
       "      <th>Sex</th>\n",
       "      <th>Age</th>\n",
       "      <th>SibSp</th>\n",
       "      <th>Parch</th>\n",
       "      <th>Ticket</th>\n",
       "      <th>Fare</th>\n",
       "      <th>Cabin</th>\n",
       "      <th>Embarked</th>\n",
       "    </tr>\n",
       "  </thead>\n",
       "  <tbody>\n",
       "    <tr>\n",
       "      <th>413</th>\n",
       "      <td>1305</td>\n",
       "      <td>3</td>\n",
       "      <td>Spector, Mr. Woolf</td>\n",
       "      <td>male</td>\n",
       "      <td>NaN</td>\n",
       "      <td>0</td>\n",
       "      <td>0</td>\n",
       "      <td>A.5. 3236</td>\n",
       "      <td>8.0500</td>\n",
       "      <td>NaN</td>\n",
       "      <td>S</td>\n",
       "    </tr>\n",
       "    <tr>\n",
       "      <th>414</th>\n",
       "      <td>1306</td>\n",
       "      <td>1</td>\n",
       "      <td>Oliva y Ocana, Dona. Fermina</td>\n",
       "      <td>female</td>\n",
       "      <td>39.0</td>\n",
       "      <td>0</td>\n",
       "      <td>0</td>\n",
       "      <td>PC 17758</td>\n",
       "      <td>108.9000</td>\n",
       "      <td>C105</td>\n",
       "      <td>C</td>\n",
       "    </tr>\n",
       "    <tr>\n",
       "      <th>415</th>\n",
       "      <td>1307</td>\n",
       "      <td>3</td>\n",
       "      <td>Saether, Mr. Simon Sivertsen</td>\n",
       "      <td>male</td>\n",
       "      <td>38.5</td>\n",
       "      <td>0</td>\n",
       "      <td>0</td>\n",
       "      <td>SOTON/O.Q. 3101262</td>\n",
       "      <td>7.2500</td>\n",
       "      <td>NaN</td>\n",
       "      <td>S</td>\n",
       "    </tr>\n",
       "    <tr>\n",
       "      <th>416</th>\n",
       "      <td>1308</td>\n",
       "      <td>3</td>\n",
       "      <td>Ware, Mr. Frederick</td>\n",
       "      <td>male</td>\n",
       "      <td>NaN</td>\n",
       "      <td>0</td>\n",
       "      <td>0</td>\n",
       "      <td>359309</td>\n",
       "      <td>8.0500</td>\n",
       "      <td>NaN</td>\n",
       "      <td>S</td>\n",
       "    </tr>\n",
       "    <tr>\n",
       "      <th>417</th>\n",
       "      <td>1309</td>\n",
       "      <td>3</td>\n",
       "      <td>Peter, Master. Michael J</td>\n",
       "      <td>male</td>\n",
       "      <td>NaN</td>\n",
       "      <td>1</td>\n",
       "      <td>1</td>\n",
       "      <td>2668</td>\n",
       "      <td>22.3583</td>\n",
       "      <td>NaN</td>\n",
       "      <td>C</td>\n",
       "    </tr>\n",
       "  </tbody>\n",
       "</table>\n",
       "</div>"
      ],
      "text/plain": [
       "     PassengerId  Pclass                          Name     Sex   Age  SibSp  \\\n",
       "413         1305       3            Spector, Mr. Woolf    male   NaN      0   \n",
       "414         1306       1  Oliva y Ocana, Dona. Fermina  female  39.0      0   \n",
       "415         1307       3  Saether, Mr. Simon Sivertsen    male  38.5      0   \n",
       "416         1308       3           Ware, Mr. Frederick    male   NaN      0   \n",
       "417         1309       3      Peter, Master. Michael J    male   NaN      1   \n",
       "\n",
       "     Parch              Ticket      Fare Cabin Embarked  \n",
       "413      0           A.5. 3236    8.0500   NaN        S  \n",
       "414      0            PC 17758  108.9000  C105        C  \n",
       "415      0  SOTON/O.Q. 3101262    7.2500   NaN        S  \n",
       "416      0              359309    8.0500   NaN        S  \n",
       "417      1                2668   22.3583   NaN        C  "
      ]
     },
     "execution_count": 5,
     "metadata": {},
     "output_type": "execute_result"
    }
   ],
   "source": [
    "test_data.tail()"
   ]
  },
  {
   "cell_type": "code",
   "execution_count": 6,
   "id": "95bf048a",
   "metadata": {
    "execution": {
     "iopub.execute_input": "2024-08-05T00:51:15.597479Z",
     "iopub.status.busy": "2024-08-05T00:51:15.596430Z",
     "iopub.status.idle": "2024-08-05T00:51:15.896193Z",
     "shell.execute_reply": "2024-08-05T00:51:15.894757Z"
    },
    "papermill": {
     "duration": 0.315119,
     "end_time": "2024-08-05T00:51:15.899058",
     "exception": false,
     "start_time": "2024-08-05T00:51:15.583939",
     "status": "completed"
    },
    "tags": []
   },
   "outputs": [
    {
     "data": {
      "text/plain": [
       "<Axes: xlabel='Survived', ylabel='count'>"
      ]
     },
     "execution_count": 6,
     "metadata": {},
     "output_type": "execute_result"
    },
    {
     "data": {
      "image/png": "[encoded data removed]",
      "text/plain": [
       "<Figure size 640x480 with 1 Axes>"
      ]
     },
     "metadata": {},
     "output_type": "display_data"
    }
   ],
   "source": [
    "sns.set_style('whitegrid')\n",
    "sns.countplot(x='Survived',data=training_data)"
   ]
  },
  {
   "cell_type": "code",
   "execution_count": 7,
   "id": "87ea4abf",
   "metadata": {
    "execution": {
     "iopub.execute_input": "2024-08-05T00:51:15.925421Z",
     "iopub.status.busy": "2024-08-05T00:51:15.924181Z",
     "iopub.status.idle": "2024-08-05T00:51:15.956958Z",
     "shell.execute_reply": "2024-08-05T00:51:15.955641Z"
    },
    "papermill": {
     "duration": 0.048406,
     "end_time": "2024-08-05T00:51:15.959477",
     "exception": false,
     "start_time": "2024-08-05T00:51:15.911071",
     "status": "completed"
    },
    "tags": []
   },
   "outputs": [
    {
     "data": {
      "text/html": [
       "<div>\n",
       "<style scoped>\n",
       "    .dataframe tbody tr th:only-of-type {\n",
       "        vertical-align: middle;\n",
       "    }\n",
       "\n",
       "    .dataframe tbody tr th {\n",
       "        vertical-align: top;\n",
       "    }\n",
       "\n",
       "    .dataframe thead th {\n",
       "        text-align: right;\n",
       "    }\n",
       "</style>\n",
       "<table border=\"1\" class=\"dataframe\">\n",
       "  <thead>\n",
       "    <tr style=\"text-align: right;\">\n",
       "      <th></th>\n",
       "      <th>PassengerId</th>\n",
       "      <th>Survived</th>\n",
       "      <th>Pclass</th>\n",
       "      <th>Name</th>\n",
       "      <th>Sex</th>\n",
       "      <th>Age</th>\n",
       "      <th>SibSp</th>\n",
       "      <th>Parch</th>\n",
       "      <th>Ticket</th>\n",
       "      <th>Fare</th>\n",
       "      <th>Cabin</th>\n",
       "      <th>Embarked</th>\n",
       "    </tr>\n",
       "  </thead>\n",
       "  <tbody>\n",
       "    <tr>\n",
       "      <th>61</th>\n",
       "      <td>62</td>\n",
       "      <td>1</td>\n",
       "      <td>1</td>\n",
       "      <td>Icard, Miss. Amelie</td>\n",
       "      <td>female</td>\n",
       "      <td>38.0</td>\n",
       "      <td>0</td>\n",
       "      <td>0</td>\n",
       "      <td>113572</td>\n",
       "      <td>80.0</td>\n",
       "      <td>B28</td>\n",
       "      <td>NaN</td>\n",
       "    </tr>\n",
       "    <tr>\n",
       "      <th>829</th>\n",
       "      <td>830</td>\n",
       "      <td>1</td>\n",
       "      <td>1</td>\n",
       "      <td>Stone, Mrs. George Nelson (Martha Evelyn)</td>\n",
       "      <td>female</td>\n",
       "      <td>62.0</td>\n",
       "      <td>0</td>\n",
       "      <td>0</td>\n",
       "      <td>113572</td>\n",
       "      <td>80.0</td>\n",
       "      <td>B28</td>\n",
       "      <td>NaN</td>\n",
       "    </tr>\n",
       "  </tbody>\n",
       "</table>\n",
       "</div>"
      ],
      "text/plain": [
       "     PassengerId  Survived  Pclass                                       Name  \\\n",
       "61            62         1       1                        Icard, Miss. Amelie   \n",
       "829          830         1       1  Stone, Mrs. George Nelson (Martha Evelyn)   \n",
       "\n",
       "        Sex   Age  SibSp  Parch  Ticket  Fare Cabin Embarked  \n",
       "61   female  38.0      0      0  113572  80.0   B28      NaN  \n",
       "829  female  62.0      0      0  113572  80.0   B28      NaN  "
      ]
     },
     "execution_count": 7,
     "metadata": {},
     "output_type": "execute_result"
    }
   ],
   "source": [
    "filtered_data = training_data[~training_data['Embarked'].isin(['C', 'S', 'Q'])]\n",
    "filtered_data"
   ]
  },
  {
   "cell_type": "code",
   "execution_count": 8,
   "id": "121a2269",
   "metadata": {
    "execution": {
     "iopub.execute_input": "2024-08-05T00:51:15.993245Z",
     "iopub.status.busy": "2024-08-05T00:51:15.992217Z",
     "iopub.status.idle": "2024-08-05T00:51:16.511905Z",
     "shell.execute_reply": "2024-08-05T00:51:16.510663Z"
    },
    "papermill": {
     "duration": 0.538423,
     "end_time": "2024-08-05T00:51:16.514478",
     "exception": false,
     "start_time": "2024-08-05T00:51:15.976055",
     "status": "completed"
    },
    "tags": []
   },
   "outputs": [
    {
     "data": {
      "text/plain": [
       "<seaborn.axisgrid.FacetGrid at 0x7a32aad1eda0>"
      ]
     },
     "execution_count": 8,
     "metadata": {},
     "output_type": "execute_result"
    },
    {
     "data": {
      "image/png": "[encoded data removed]",
      "text/plain": [
       "<Figure size 500x500 with 1 Axes>"
      ]
     },
     "metadata": {},
     "output_type": "display_data"
    }
   ],
   "source": [
    "sns.displot(data=training_data,x='Embarked')"
   ]
  },
  {
   "cell_type": "code",
   "execution_count": 9,
   "id": "faee641e",
   "metadata": {
    "execution": {
     "iopub.execute_input": "2024-08-05T00:51:16.542300Z",
     "iopub.status.busy": "2024-08-05T00:51:16.541820Z",
     "iopub.status.idle": "2024-08-05T00:51:16.550118Z",
     "shell.execute_reply": "2024-08-05T00:51:16.548959Z"
    },
    "papermill": {
     "duration": 0.025456,
     "end_time": "2024-08-05T00:51:16.552516",
     "exception": false,
     "start_time": "2024-08-05T00:51:16.527060",
     "status": "completed"
    },
    "tags": []
   },
   "outputs": [],
   "source": [
    "embarked_mode = training_data['Embarked'].mode()[0]\n",
    "training_data['Embarked'].fillna(embarked_mode, inplace=True)"
   ]
  },
  {
   "cell_type": "code",
   "execution_count": 10,
   "id": "c23386a6",
   "metadata": {
    "execution": {
     "iopub.execute_input": "2024-08-05T00:51:16.579200Z",
     "iopub.status.busy": "2024-08-05T00:51:16.578691Z",
     "iopub.status.idle": "2024-08-05T00:51:16.888721Z",
     "shell.execute_reply": "2024-08-05T00:51:16.887096Z"
    },
    "papermill": {
     "duration": 0.326889,
     "end_time": "2024-08-05T00:51:16.891659",
     "exception": false,
     "start_time": "2024-08-05T00:51:16.564770",
     "status": "completed"
    },
    "tags": []
   },
   "outputs": [
    {
     "data": {
      "text/plain": [
       "<Axes: xlabel='Survived', ylabel='count'>"
      ]
     },
     "execution_count": 10,
     "metadata": {},
     "output_type": "execute_result"
    },
    {
     "data": {
      "image/png": "[encoded data removed]",
      "text/plain": [
       "<Figure size 640x480 with 1 Axes>"
      ]
     },
     "metadata": {},
     "output_type": "display_data"
    }
   ],
   "source": [
    "sns.countplot(x='Survived',data=training_data,hue='Sex',palette='RdBu_r')"
   ]
  },
  {
   "cell_type": "code",
   "execution_count": 11,
   "id": "621abd10",
   "metadata": {
    "execution": {
     "iopub.execute_input": "2024-08-05T00:51:16.919108Z",
     "iopub.status.busy": "2024-08-05T00:51:16.918716Z",
     "iopub.status.idle": "2024-08-05T00:51:17.260019Z",
     "shell.execute_reply": "2024-08-05T00:51:17.258825Z"
    },
    "papermill": {
     "duration": 0.358469,
     "end_time": "2024-08-05T00:51:17.263014",
     "exception": false,
     "start_time": "2024-08-05T00:51:16.904545",
     "status": "completed"
    },
    "tags": []
   },
   "outputs": [
    {
     "data": {
      "text/plain": [
       "<Axes: xlabel='Survived', ylabel='count'>"
      ]
     },
     "execution_count": 11,
     "metadata": {},
     "output_type": "execute_result"
    },
    {
     "data": {
      "image/png": "[encoded data removed]",
      "text/plain": [
       "<Figure size 640x480 with 1 Axes>"
      ]
     },
     "metadata": {},
     "output_type": "display_data"
    }
   ],
   "source": [
    "sns.countplot(x='Survived',data=training_data,hue='Pclass')"
   ]
  },
  {
   "cell_type": "code",
   "execution_count": 12,
   "id": "97fb96bc",
   "metadata": {
    "execution": {
     "iopub.execute_input": "2024-08-05T00:51:17.292737Z",
     "iopub.status.busy": "2024-08-05T00:51:17.292091Z",
     "iopub.status.idle": "2024-08-05T00:51:18.042851Z",
     "shell.execute_reply": "2024-08-05T00:51:18.041302Z"
    },
    "papermill": {
     "duration": 0.768475,
     "end_time": "2024-08-05T00:51:18.045675",
     "exception": false,
     "start_time": "2024-08-05T00:51:17.277200",
     "status": "completed"
    },
    "tags": []
   },
   "outputs": [
    {
     "data": {
      "text/plain": [
       "<seaborn.axisgrid.FacetGrid at 0x7a32a8a0c9a0>"
      ]
     },
     "execution_count": 12,
     "metadata": {},
     "output_type": "execute_result"
    },
    {
     "data": {
      "image/png": "[encoded data removed]",
      "text/plain": [
       "<Figure size 500x500 with 1 Axes>"
      ]
     },
     "metadata": {},
     "output_type": "display_data"
    }
   ],
   "source": [
    "sns.displot(training_data['Age'],kde=False,bins=30)"
   ]
  },
  {
   "cell_type": "code",
   "execution_count": 13,
   "id": "7d9b59d1",
   "metadata": {
    "execution": {
     "iopub.execute_input": "2024-08-05T00:51:18.075871Z",
     "iopub.status.busy": "2024-08-05T00:51:18.075449Z",
     "iopub.status.idle": "2024-08-05T00:51:18.707341Z",
     "shell.execute_reply": "2024-08-05T00:51:18.706246Z"
    },
    "papermill": {
     "duration": 0.649949,
     "end_time": "2024-08-05T00:51:18.710026",
     "exception": false,
     "start_time": "2024-08-05T00:51:18.060077",
     "status": "completed"
    },
    "tags": []
   },
   "outputs": [
    {
     "data": {
      "image/png": "[encoded data removed]",
      "text/plain": [
       "<Figure size 1000x600 with 1 Axes>"
      ]
     },
     "metadata": {},
     "output_type": "display_data"
    }
   ],
   "source": [
    "survived_fares = training_data[training_data['Survived'] == 1]['Fare']\n",
    "not_survived_fares = training_data[training_data['Survived'] == 0]['Fare']\n",
    "\n",
    "plt.figure(figsize=(10, 6))\n",
    "plt.hist([survived_fares, not_survived_fares], bins=40, color=['green', 'red'], label=['Survived', 'Not Survived'])\n",
    "plt.xlabel('Fare')\n",
    "plt.ylabel('Frequency')\n",
    "plt.title('Distribution of Fare by Survival')\n",
    "plt.legend()\n",
    "plt.show()"
   ]
  },
  {
   "cell_type": "code",
   "execution_count": 14,
   "id": "1aec9313",
   "metadata": {
    "execution": {
     "iopub.execute_input": "2024-08-05T00:51:18.740419Z",
     "iopub.status.busy": "2024-08-05T00:51:18.739467Z",
     "iopub.status.idle": "2024-08-05T00:51:19.165036Z",
     "shell.execute_reply": "2024-08-05T00:51:19.163806Z"
    },
    "papermill": {
     "duration": 0.443363,
     "end_time": "2024-08-05T00:51:19.167469",
     "exception": false,
     "start_time": "2024-08-05T00:51:18.724106",
     "status": "completed"
    },
    "tags": []
   },
   "outputs": [
    {
     "data": {
      "text/plain": [
       "<Axes: xlabel='SibSp', ylabel='count'>"
      ]
     },
     "execution_count": 14,
     "metadata": {},
     "output_type": "execute_result"
    },
    {
     "data": {
      "image/png": "[encoded data removed]",
      "text/plain": [
       "<Figure size 640x480 with 1 Axes>"
      ]
     },
     "metadata": {},
     "output_type": "display_data"
    }
   ],
   "source": [
    "sns.countplot(x='SibSp',data=training_data,hue='Survived',palette='RdBu_r')"
   ]
  },
  {
   "cell_type": "code",
   "execution_count": 15,
   "id": "9f19bfc3",
   "metadata": {
    "execution": {
     "iopub.execute_input": "2024-08-05T00:51:19.198764Z",
     "iopub.status.busy": "2024-08-05T00:51:19.198298Z",
     "iopub.status.idle": "2024-08-05T00:51:19.602249Z",
     "shell.execute_reply": "2024-08-05T00:51:19.600995Z"
    },
    "papermill": {
     "duration": 0.422826,
     "end_time": "2024-08-05T00:51:19.605084",
     "exception": false,
     "start_time": "2024-08-05T00:51:19.182258",
     "status": "completed"
    },
    "tags": []
   },
   "outputs": [
    {
     "data": {
      "text/plain": [
       "<Axes: xlabel='Parch', ylabel='count'>"
      ]
     },
     "execution_count": 15,
     "metadata": {},
     "output_type": "execute_result"
    },
    {
     "data": {
      "image/png": "[encoded data removed]",
      "text/plain": [
       "<Figure size 640x480 with 1 Axes>"
      ]
     },
     "metadata": {},
     "output_type": "display_data"
    }
   ],
   "source": [
    "sns.countplot(x='Parch',data=training_data,hue='Survived',palette='RdBu_r')"
   ]
  },
  {
   "cell_type": "code",
   "execution_count": 16,
   "id": "ebdc2d95",
   "metadata": {
    "execution": {
     "iopub.execute_input": "2024-08-05T00:51:19.638164Z",
     "iopub.status.busy": "2024-08-05T00:51:19.637755Z",
     "iopub.status.idle": "2024-08-05T00:51:20.179654Z",
     "shell.execute_reply": "2024-08-05T00:51:20.178172Z"
    },
    "papermill": {
     "duration": 0.561632,
     "end_time": "2024-08-05T00:51:20.182284",
     "exception": false,
     "start_time": "2024-08-05T00:51:19.620652",
     "status": "completed"
    },
    "tags": []
   },
   "outputs": [
    {
     "data": {
      "text/plain": [
       "<Axes: >"
      ]
     },
     "execution_count": 16,
     "metadata": {},
     "output_type": "execute_result"
    },
    {
     "data": {
      "image/png": "[encoded data removed]",
      "text/plain": [
       "<Figure size 640x480 with 2 Axes>"
      ]
     },
     "metadata": {},
     "output_type": "display_data"
    }
   ],
   "source": [
    "sns.heatmap(training_data.isnull(),yticklabels=False,cmap=('viridis'))"
   ]
  },
  {
   "cell_type": "code",
   "execution_count": 17,
   "id": "14672ec1",
   "metadata": {
    "execution": {
     "iopub.execute_input": "2024-08-05T00:51:20.215966Z",
     "iopub.status.busy": "2024-08-05T00:51:20.215532Z",
     "iopub.status.idle": "2024-08-05T00:51:20.732116Z",
     "shell.execute_reply": "2024-08-05T00:51:20.730894Z"
    },
    "papermill": {
     "duration": 0.536549,
     "end_time": "2024-08-05T00:51:20.734876",
     "exception": false,
     "start_time": "2024-08-05T00:51:20.198327",
     "status": "completed"
    },
    "tags": []
   },
   "outputs": [
    {
     "data": {
      "text/plain": [
       "<Axes: >"
      ]
     },
     "execution_count": 17,
     "metadata": {},
     "output_type": "execute_result"
    },
    {
     "data": {
      "image/png": "[encoded data removed]",
      "text/plain": [
       "<Figure size 640x480 with 2 Axes>"
      ]
     },
     "metadata": {},
     "output_type": "display_data"
    }
   ],
   "source": [
    "sns.heatmap(test_data.isnull(),yticklabels=False,cmap=('viridis'))"
   ]
  },
  {
   "cell_type": "code",
   "execution_count": 18,
   "id": "f9fc94ac",
   "metadata": {
    "execution": {
     "iopub.execute_input": "2024-08-05T00:51:20.771142Z",
     "iopub.status.busy": "2024-08-05T00:51:20.770696Z",
     "iopub.status.idle": "2024-08-05T00:51:20.787355Z",
     "shell.execute_reply": "2024-08-05T00:51:20.786153Z"
    },
    "papermill": {
     "duration": 0.037845,
     "end_time": "2024-08-05T00:51:20.789780",
     "exception": false,
     "start_time": "2024-08-05T00:51:20.751935",
     "status": "completed"
    },
    "tags": []
   },
   "outputs": [],
   "source": [
    "def add_title_and_encode(data):\n",
    "    # Extract titles using a raw string for the regex pattern\n",
    "    data['Title'] = data.Name.str.extract(r' ([A-Za-z]+)\\.', expand=False)\n",
    "    data.Title = data.Title.replace(['Lady', 'Countess','Capt', 'Col','Don', 'Dr', 'Major', \n",
    "                                     'Rev', 'Sir', 'Jonkheer', 'Dona'], 'Rare')\n",
    "    data.Title = data.Title.replace('Mlle', 'Miss')\n",
    "    data.Title = data.Title.replace('Ms', 'Miss')\n",
    "    data.Title = data.Title.replace('Mme', 'Mrs')\n",
    "    \n",
    "    # Apply OneHotEncoder to the 'Title' column\n",
    "    encoder_title = OneHotEncoder(sparse_output=False, drop='first')\n",
    "    title_encoded = encoder_title.fit_transform(data[['Title']])\n",
    "    \n",
    "    # Create a DataFrame with the encoded columns and appropriate column names\n",
    "    title_encoded_df = pd.DataFrame(title_encoded, columns=encoder_title.get_feature_names_out(['Title'])).astype(int)\n",
    "    \n",
    "    # Concatenate the original data with the new one-hot-encoded columns\n",
    "    data = pd.concat([data, title_encoded_df], axis=1)\n",
    "    \n",
    "    # Drop the original 'Title' column\n",
    "    data.drop('Title', axis=1, inplace=True)\n",
    "    \n",
    "    # Apply OneHotEncoder to the 'Embarked' column\n",
    "    encoder_embarked = OneHotEncoder(sparse_output=False, drop='first')\n",
    "    embarked_encoded = encoder_embarked.fit_transform(data[['Embarked']])\n",
    "    \n",
    "    # Create a DataFrame with the encoded columns and appropriate column names\n",
    "    embarked_encoded_df = pd.DataFrame(embarked_encoded, columns=encoder_embarked.get_feature_names_out(['Embarked'])).astype(int)\n",
    "    \n",
    "    # Concatenate the original data with the new one-hot-encoded columns\n",
    "    data = pd.concat([data, embarked_encoded_df], axis=1)\n",
    "    \n",
    "    # Apply OneHotEncoder to the 'Sex' column\n",
    "    encoder_Sex = OneHotEncoder(sparse_output=False, drop='first')\n",
    "    Sex_encoded = encoder_Sex.fit_transform(data[['Sex']])\n",
    "    \n",
    "    # Create a DataFrame with the encoded columns and appropriate column names\n",
    "    Sex_encoded_df = pd.DataFrame(Sex_encoded, columns=encoder_Sex.get_feature_names_out(['Sex'])).astype(int)\n",
    "    \n",
    "    # Concatenate the original data with the new one-hot-encoded columns\n",
    "    data = pd.concat([data, Sex_encoded_df], axis=1)\n",
    "    \n",
    "    # Apply OneHotEncoder to the 'Pclass' column\n",
    "    encoder_Pclass = OneHotEncoder(sparse_output=False, drop='first')\n",
    "    Pclass_encoded = encoder_Pclass.fit_transform(data[['Pclass']])\n",
    "    \n",
    "    # Create a DataFrame with the encoded columns and appropriate column names\n",
    "    Pclass_encoded_df = pd.DataFrame(Pclass_encoded, columns=encoder_Pclass.get_feature_names_out(['Pclass'])).astype(int)\n",
    "    \n",
    "    # Concatenate the original data with the new one-hot-encoded columns for Pclass\n",
    "    data = pd.concat([data, Pclass_encoded_df], axis=1)\n",
    "    \n",
    "    # Drop the original 'Sex', 'Pclass', 'Embarked', and other unnecessary columns\n",
    "    data.drop(['Sex', 'Pclass', 'Embarked', 'Name', 'PassengerId','Cabin','Ticket'], axis=1, inplace=True)\n",
    "    \n",
    "    return data"
   ]
  },
  {
   "cell_type": "code",
   "execution_count": 19,
   "id": "1e870e22",
   "metadata": {
    "execution": {
     "iopub.execute_input": "2024-08-05T00:51:20.825045Z",
     "iopub.status.busy": "2024-08-05T00:51:20.824630Z",
     "iopub.status.idle": "2024-08-05T00:51:20.877832Z",
     "shell.execute_reply": "2024-08-05T00:51:20.876643Z"
    },
    "papermill": {
     "duration": 0.074154,
     "end_time": "2024-08-05T00:51:20.880583",
     "exception": false,
     "start_time": "2024-08-05T00:51:20.806429",
     "status": "completed"
    },
    "tags": []
   },
   "outputs": [],
   "source": [
    "training_data=add_title_and_encode(training_data)\n",
    "test_data=add_title_and_encode(test_data)"
   ]
  },
  {
   "cell_type": "code",
   "execution_count": 20,
   "id": "b914b84e",
   "metadata": {
    "execution": {
     "iopub.execute_input": "2024-08-05T00:51:20.915845Z",
     "iopub.status.busy": "2024-08-05T00:51:20.915308Z",
     "iopub.status.idle": "2024-08-05T00:51:20.932894Z",
     "shell.execute_reply": "2024-08-05T00:51:20.931660Z"
    },
    "papermill": {
     "duration": 0.038054,
     "end_time": "2024-08-05T00:51:20.935352",
     "exception": false,
     "start_time": "2024-08-05T00:51:20.897298",
     "status": "completed"
    },
    "tags": []
   },
   "outputs": [
    {
     "data": {
      "text/html": [
       "<div>\n",
       "<style scoped>\n",
       "    .dataframe tbody tr th:only-of-type {\n",
       "        vertical-align: middle;\n",
       "    }\n",
       "\n",
       "    .dataframe tbody tr th {\n",
       "        vertical-align: top;\n",
       "    }\n",
       "\n",
       "    .dataframe thead th {\n",
       "        text-align: right;\n",
       "    }\n",
       "</style>\n",
       "<table border=\"1\" class=\"dataframe\">\n",
       "  <thead>\n",
       "    <tr style=\"text-align: right;\">\n",
       "      <th></th>\n",
       "      <th>Age</th>\n",
       "      <th>SibSp</th>\n",
       "      <th>Parch</th>\n",
       "      <th>Fare</th>\n",
       "      <th>Title_Miss</th>\n",
       "      <th>Title_Mr</th>\n",
       "      <th>Title_Mrs</th>\n",
       "      <th>Title_Rare</th>\n",
       "      <th>Embarked_Q</th>\n",
       "      <th>Embarked_S</th>\n",
       "      <th>Sex_male</th>\n",
       "      <th>Pclass_2</th>\n",
       "      <th>Pclass_3</th>\n",
       "    </tr>\n",
       "  </thead>\n",
       "  <tbody>\n",
       "    <tr>\n",
       "      <th>0</th>\n",
       "      <td>34.5</td>\n",
       "      <td>0</td>\n",
       "      <td>0</td>\n",
       "      <td>7.8292</td>\n",
       "      <td>0</td>\n",
       "      <td>1</td>\n",
       "      <td>0</td>\n",
       "      <td>0</td>\n",
       "      <td>1</td>\n",
       "      <td>0</td>\n",
       "      <td>1</td>\n",
       "      <td>0</td>\n",
       "      <td>1</td>\n",
       "    </tr>\n",
       "    <tr>\n",
       "      <th>1</th>\n",
       "      <td>47.0</td>\n",
       "      <td>1</td>\n",
       "      <td>0</td>\n",
       "      <td>7.0000</td>\n",
       "      <td>0</td>\n",
       "      <td>0</td>\n",
       "      <td>1</td>\n",
       "      <td>0</td>\n",
       "      <td>0</td>\n",
       "      <td>1</td>\n",
       "      <td>0</td>\n",
       "      <td>0</td>\n",
       "      <td>1</td>\n",
       "    </tr>\n",
       "    <tr>\n",
       "      <th>2</th>\n",
       "      <td>62.0</td>\n",
       "      <td>0</td>\n",
       "      <td>0</td>\n",
       "      <td>9.6875</td>\n",
       "      <td>0</td>\n",
       "      <td>1</td>\n",
       "      <td>0</td>\n",
       "      <td>0</td>\n",
       "      <td>1</td>\n",
       "      <td>0</td>\n",
       "      <td>1</td>\n",
       "      <td>1</td>\n",
       "      <td>0</td>\n",
       "    </tr>\n",
       "    <tr>\n",
       "      <th>3</th>\n",
       "      <td>27.0</td>\n",
       "      <td>0</td>\n",
       "      <td>0</td>\n",
       "      <td>8.6625</td>\n",
       "      <td>0</td>\n",
       "      <td>1</td>\n",
       "      <td>0</td>\n",
       "      <td>0</td>\n",
       "      <td>0</td>\n",
       "      <td>1</td>\n",
       "      <td>1</td>\n",
       "      <td>0</td>\n",
       "      <td>1</td>\n",
       "    </tr>\n",
       "    <tr>\n",
       "      <th>4</th>\n",
       "      <td>22.0</td>\n",
       "      <td>1</td>\n",
       "      <td>1</td>\n",
       "      <td>12.2875</td>\n",
       "      <td>0</td>\n",
       "      <td>0</td>\n",
       "      <td>1</td>\n",
       "      <td>0</td>\n",
       "      <td>0</td>\n",
       "      <td>1</td>\n",
       "      <td>0</td>\n",
       "      <td>0</td>\n",
       "      <td>1</td>\n",
       "    </tr>\n",
       "  </tbody>\n",
       "</table>\n",
       "</div>"
      ],
      "text/plain": [
       "    Age  SibSp  Parch     Fare  Title_Miss  Title_Mr  Title_Mrs  Title_Rare  \\\n",
       "0  34.5      0      0   7.8292           0         1          0           0   \n",
       "1  47.0      1      0   7.0000           0         0          1           0   \n",
       "2  62.0      0      0   9.6875           0         1          0           0   \n",
       "3  27.0      0      0   8.6625           0         1          0           0   \n",
       "4  22.0      1      1  12.2875           0         0          1           0   \n",
       "\n",
       "   Embarked_Q  Embarked_S  Sex_male  Pclass_2  Pclass_3  \n",
       "0           1           0         1         0         1  \n",
       "1           0           1         0         0         1  \n",
       "2           1           0         1         1         0  \n",
       "3           0           1         1         0         1  \n",
       "4           0           1         0         0         1  "
      ]
     },
     "execution_count": 20,
     "metadata": {},
     "output_type": "execute_result"
    }
   ],
   "source": [
    "test_data.head()"
   ]
  },
  {
   "cell_type": "code",
   "execution_count": 21,
   "id": "d2874555",
   "metadata": {
    "execution": {
     "iopub.execute_input": "2024-08-05T00:51:20.971536Z",
     "iopub.status.busy": "2024-08-05T00:51:20.970449Z",
     "iopub.status.idle": "2024-08-05T00:51:20.987272Z",
     "shell.execute_reply": "2024-08-05T00:51:20.986216Z"
    },
    "papermill": {
     "duration": 0.037514,
     "end_time": "2024-08-05T00:51:20.989784",
     "exception": false,
     "start_time": "2024-08-05T00:51:20.952270",
     "status": "completed"
    },
    "tags": []
   },
   "outputs": [
    {
     "data": {
      "text/html": [
       "<div>\n",
       "<style scoped>\n",
       "    .dataframe tbody tr th:only-of-type {\n",
       "        vertical-align: middle;\n",
       "    }\n",
       "\n",
       "    .dataframe tbody tr th {\n",
       "        vertical-align: top;\n",
       "    }\n",
       "\n",
       "    .dataframe thead th {\n",
       "        text-align: right;\n",
       "    }\n",
       "</style>\n",
       "<table border=\"1\" class=\"dataframe\">\n",
       "  <thead>\n",
       "    <tr style=\"text-align: right;\">\n",
       "      <th></th>\n",
       "      <th>Survived</th>\n",
       "      <th>Age</th>\n",
       "      <th>SibSp</th>\n",
       "      <th>Parch</th>\n",
       "      <th>Fare</th>\n",
       "      <th>Title_Miss</th>\n",
       "      <th>Title_Mr</th>\n",
       "      <th>Title_Mrs</th>\n",
       "      <th>Title_Rare</th>\n",
       "      <th>Embarked_Q</th>\n",
       "      <th>Embarked_S</th>\n",
       "      <th>Sex_male</th>\n",
       "      <th>Pclass_2</th>\n",
       "      <th>Pclass_3</th>\n",
       "    </tr>\n",
       "  </thead>\n",
       "  <tbody>\n",
       "    <tr>\n",
       "      <th>0</th>\n",
       "      <td>0</td>\n",
       "      <td>22.0</td>\n",
       "      <td>1</td>\n",
       "      <td>0</td>\n",
       "      <td>7.2500</td>\n",
       "      <td>0</td>\n",
       "      <td>1</td>\n",
       "      <td>0</td>\n",
       "      <td>0</td>\n",
       "      <td>0</td>\n",
       "      <td>1</td>\n",
       "      <td>1</td>\n",
       "      <td>0</td>\n",
       "      <td>1</td>\n",
       "    </tr>\n",
       "    <tr>\n",
       "      <th>1</th>\n",
       "      <td>1</td>\n",
       "      <td>38.0</td>\n",
       "      <td>1</td>\n",
       "      <td>0</td>\n",
       "      <td>71.2833</td>\n",
       "      <td>0</td>\n",
       "      <td>0</td>\n",
       "      <td>1</td>\n",
       "      <td>0</td>\n",
       "      <td>0</td>\n",
       "      <td>0</td>\n",
       "      <td>0</td>\n",
       "      <td>0</td>\n",
       "      <td>0</td>\n",
       "    </tr>\n",
       "    <tr>\n",
       "      <th>2</th>\n",
       "      <td>1</td>\n",
       "      <td>26.0</td>\n",
       "      <td>0</td>\n",
       "      <td>0</td>\n",
       "      <td>7.9250</td>\n",
       "      <td>1</td>\n",
       "      <td>0</td>\n",
       "      <td>0</td>\n",
       "      <td>0</td>\n",
       "      <td>0</td>\n",
       "      <td>1</td>\n",
       "      <td>0</td>\n",
       "      <td>0</td>\n",
       "      <td>1</td>\n",
       "    </tr>\n",
       "    <tr>\n",
       "      <th>3</th>\n",
       "      <td>1</td>\n",
       "      <td>35.0</td>\n",
       "      <td>1</td>\n",
       "      <td>0</td>\n",
       "      <td>53.1000</td>\n",
       "      <td>0</td>\n",
       "      <td>0</td>\n",
       "      <td>1</td>\n",
       "      <td>0</td>\n",
       "      <td>0</td>\n",
       "      <td>1</td>\n",
       "      <td>0</td>\n",
       "      <td>0</td>\n",
       "      <td>0</td>\n",
       "    </tr>\n",
       "    <tr>\n",
       "      <th>4</th>\n",
       "      <td>0</td>\n",
       "      <td>35.0</td>\n",
       "      <td>0</td>\n",
       "      <td>0</td>\n",
       "      <td>8.0500</td>\n",
       "      <td>0</td>\n",
       "      <td>1</td>\n",
       "      <td>0</td>\n",
       "      <td>0</td>\n",
       "      <td>0</td>\n",
       "      <td>1</td>\n",
       "      <td>1</td>\n",
       "      <td>0</td>\n",
       "      <td>1</td>\n",
       "    </tr>\n",
       "  </tbody>\n",
       "</table>\n",
       "</div>"
      ],
      "text/plain": [
       "   Survived   Age  SibSp  Parch     Fare  Title_Miss  Title_Mr  Title_Mrs  \\\n",
       "0         0  22.0      1      0   7.2500           0         1          0   \n",
       "1         1  38.0      1      0  71.2833           0         0          1   \n",
       "2         1  26.0      0      0   7.9250           1         0          0   \n",
       "3         1  35.0      1      0  53.1000           0         0          1   \n",
       "4         0  35.0      0      0   8.0500           0         1          0   \n",
       "\n",
       "   Title_Rare  Embarked_Q  Embarked_S  Sex_male  Pclass_2  Pclass_3  \n",
       "0           0           0           1         1         0         1  \n",
       "1           0           0           0         0         0         0  \n",
       "2           0           0           1         0         0         1  \n",
       "3           0           0           1         0         0         0  \n",
       "4           0           0           1         1         0         1  "
      ]
     },
     "execution_count": 21,
     "metadata": {},
     "output_type": "execute_result"
    }
   ],
   "source": [
    "training_data.head()"
   ]
  },
  {
   "cell_type": "code",
   "execution_count": 22,
   "id": "2315dfe6",
   "metadata": {
    "execution": {
     "iopub.execute_input": "2024-08-05T00:51:21.025638Z",
     "iopub.status.busy": "2024-08-05T00:51:21.025179Z",
     "iopub.status.idle": "2024-08-05T00:51:21.033784Z",
     "shell.execute_reply": "2024-08-05T00:51:21.032634Z"
    },
    "papermill": {
     "duration": 0.029572,
     "end_time": "2024-08-05T00:51:21.036391",
     "exception": false,
     "start_time": "2024-08-05T00:51:21.006819",
     "status": "completed"
    },
    "tags": []
   },
   "outputs": [],
   "source": [
    "test_data['Fare'] = test_data['Fare'].fillna(np.mean(test_data['Fare']))\n",
    "training_data['Fare'] = training_data['Fare'].fillna(np.mean(training_data['Fare']))"
   ]
  },
  {
   "cell_type": "code",
   "execution_count": 23,
   "id": "eeab5f30",
   "metadata": {
    "execution": {
     "iopub.execute_input": "2024-08-05T00:51:21.073229Z",
     "iopub.status.busy": "2024-08-05T00:51:21.071948Z",
     "iopub.status.idle": "2024-08-05T00:51:21.080460Z",
     "shell.execute_reply": "2024-08-05T00:51:21.079385Z"
    },
    "papermill": {
     "duration": 0.029872,
     "end_time": "2024-08-05T00:51:21.083325",
     "exception": false,
     "start_time": "2024-08-05T00:51:21.053453",
     "status": "completed"
    },
    "tags": []
   },
   "outputs": [],
   "source": [
    "def fill_age_based_on_title(data):\n",
    "    # Calculate median age for different encoded titles\n",
    "    median_ages = data.groupby(['Title_Miss', 'Title_Mr', 'Title_Mrs', 'Title_Rare'])['Age'].median()\n",
    "    \n",
    "    # Iterate over the dataset and fill missing Age values based on the calculated medians\n",
    "    for index, row in data.iterrows():\n",
    "        if pd.isnull(row['Age']):\n",
    "            # Create a tuple of encoded title features\n",
    "            encoded_titles = (row['Title_Miss'], row['Title_Mr'], row['Title_Mrs'], row['Title_Rare'])\n",
    "            median_age = median_ages.loc[encoded_titles]\n",
    "            data.at[index, 'Age'] = median_age\n",
    "    \n",
    "    return data"
   ]
  },
  {
   "cell_type": "code",
   "execution_count": 24,
   "id": "9cbfa027",
   "metadata": {
    "execution": {
     "iopub.execute_input": "2024-08-05T00:51:21.120270Z",
     "iopub.status.busy": "2024-08-05T00:51:21.119123Z",
     "iopub.status.idle": "2024-08-05T00:51:21.242116Z",
     "shell.execute_reply": "2024-08-05T00:51:21.240965Z"
    },
    "papermill": {
     "duration": 0.144356,
     "end_time": "2024-08-05T00:51:21.244875",
     "exception": false,
     "start_time": "2024-08-05T00:51:21.100519",
     "status": "completed"
    },
    "tags": []
   },
   "outputs": [],
   "source": [
    "training_data=fill_age_based_on_title(training_data)\n",
    "test_data=fill_age_based_on_title(test_data)"
   ]
  },
  {
   "cell_type": "code",
   "execution_count": 25,
   "id": "e379773b",
   "metadata": {
    "execution": {
     "iopub.execute_input": "2024-08-05T00:51:21.281210Z",
     "iopub.status.busy": "2024-08-05T00:51:21.280772Z",
     "iopub.status.idle": "2024-08-05T00:51:21.874532Z",
     "shell.execute_reply": "2024-08-05T00:51:21.873334Z"
    },
    "papermill": {
     "duration": 0.615006,
     "end_time": "2024-08-05T00:51:21.877086",
     "exception": false,
     "start_time": "2024-08-05T00:51:21.262080",
     "status": "completed"
    },
    "tags": []
   },
   "outputs": [
    {
     "data": {
      "text/plain": [
       "<Axes: >"
      ]
     },
     "execution_count": 25,
     "metadata": {},
     "output_type": "execute_result"
    },
    {
     "data": {
      "image/png": "[encoded data removed]",
      "text/plain": [
       "<Figure size 640x480 with 2 Axes>"
      ]
     },
     "metadata": {},
     "output_type": "display_data"
    }
   ],
   "source": [
    "sns.heatmap(test_data.isnull(),yticklabels=False,cmap=('viridis'))"
   ]
  },
  {
   "cell_type": "code",
   "execution_count": 26,
   "id": "1632c418",
   "metadata": {
    "execution": {
     "iopub.execute_input": "2024-08-05T00:51:21.916010Z",
     "iopub.status.busy": "2024-08-05T00:51:21.914551Z",
     "iopub.status.idle": "2024-08-05T00:51:22.652056Z",
     "shell.execute_reply": "2024-08-05T00:51:22.650801Z"
    },
    "papermill": {
     "duration": 0.759128,
     "end_time": "2024-08-05T00:51:22.654428",
     "exception": false,
     "start_time": "2024-08-05T00:51:21.895300",
     "status": "completed"
    },
    "tags": []
   },
   "outputs": [
    {
     "data": {
      "text/plain": [
       "<Axes: >"
      ]
     },
     "execution_count": 26,
     "metadata": {},
     "output_type": "execute_result"
    },
    {
     "data": {
      "image/png": "[encoded data removed]",
      "text/plain": [
       "<Figure size 640x480 with 2 Axes>"
      ]
     },
     "metadata": {},
     "output_type": "display_data"
    }
   ],
   "source": [
    "sns.heatmap(training_data.isnull(),yticklabels=False,cmap=('viridis'))"
   ]
  },
  {
   "cell_type": "code",
   "execution_count": 27,
   "id": "51b3c143",
   "metadata": {
    "execution": {
     "iopub.execute_input": "2024-08-05T00:51:22.693688Z",
     "iopub.status.busy": "2024-08-05T00:51:22.692817Z",
     "iopub.status.idle": "2024-08-05T00:51:22.699150Z",
     "shell.execute_reply": "2024-08-05T00:51:22.698094Z"
    },
    "papermill": {
     "duration": 0.02863,
     "end_time": "2024-08-05T00:51:22.701513",
     "exception": false,
     "start_time": "2024-08-05T00:51:22.672883",
     "status": "completed"
    },
    "tags": []
   },
   "outputs": [],
   "source": [
    "X = training_data.drop('Survived', axis=1)  # Features\n",
    "y = training_data['Survived']  # Target"
   ]
  },
  {
   "cell_type": "code",
   "execution_count": 28,
   "id": "ac13a654",
   "metadata": {
    "execution": {
     "iopub.execute_input": "2024-08-05T00:51:22.741375Z",
     "iopub.status.busy": "2024-08-05T00:51:22.740403Z",
     "iopub.status.idle": "2024-08-05T00:51:44.453163Z",
     "shell.execute_reply": "2024-08-05T00:51:44.451330Z"
    },
    "papermill": {
     "duration": 21.734841,
     "end_time": "2024-08-05T00:51:44.455160",
     "exception": true,
     "start_time": "2024-08-05T00:51:22.720319",
     "status": "failed"
    },
    "tags": []
   },
   "outputs": [
    {
     "name": "stdout",
     "output_type": "stream",
     "text": [
      "['titanic', 'titanic-machine-learning-from-disaster']\n"
     ]
    },
    {
     "ename": "ConnectionError",
     "evalue": "HTTPSConnectionPool(host='github.com', port=443): Max retries exceeded with url: /thisisjasonjafari/my-datascientise-handcode/raw/master/005-datavisualization/titanic.csv (Caused by NameResolutionError(\"<urllib3.connection.HTTPSConnection object at 0x7a32a8133df0>: Failed to resolve 'github.com' ([Errno -3] Temporary failure in name resolution)\"))",
     "output_type": "error",
     "traceback": [
      "\u001b[0;31m---------------------------------------------------------------------------\u001b[0m",
      "\u001b[0;31mgaierror\u001b[0m                                  Traceback (most recent call last)",
      "File \u001b[0;32m/opt/conda/lib/python3.10/site-packages/urllib3/connection.py:203\u001b[0m, in \u001b[0;36mHTTPConnection._new_conn\u001b[0;34m(self)\u001b[0m\n\u001b[1;32m    202\u001b[0m \u001b[38;5;28;01mtry\u001b[39;00m:\n\u001b[0;32m--> 203\u001b[0m     sock \u001b[38;5;241m=\u001b[39m \u001b[43mconnection\u001b[49m\u001b[38;5;241;43m.\u001b[39;49m\u001b[43mcreate_connection\u001b[49m\u001b[43m(\u001b[49m\n\u001b[1;32m    204\u001b[0m \u001b[43m        \u001b[49m\u001b[43m(\u001b[49m\u001b[38;5;28;43mself\u001b[39;49m\u001b[38;5;241;43m.\u001b[39;49m\u001b[43m_dns_host\u001b[49m\u001b[43m,\u001b[49m\u001b[43m \u001b[49m\u001b[38;5;28;43mself\u001b[39;49m\u001b[38;5;241;43m.\u001b[39;49m\u001b[43mport\u001b[49m\u001b[43m)\u001b[49m\u001b[43m,\u001b[49m\n\u001b[1;32m    205\u001b[0m \u001b[43m        \u001b[49m\u001b[38;5;28;43mself\u001b[39;49m\u001b[38;5;241;43m.\u001b[39;49m\u001b[43mtimeout\u001b[49m\u001b[43m,\u001b[49m\n\u001b[1;32m    206\u001b[0m \u001b[43m        \u001b[49m\u001b[43msource_address\u001b[49m\u001b[38;5;241;43m=\u001b[39;49m\u001b[38;5;28;43mself\u001b[39;49m\u001b[38;5;241;43m.\u001b[39;49m\u001b[43msource_address\u001b[49m\u001b[43m,\u001b[49m\n\u001b[1;32m    207\u001b[0m \u001b[43m        \u001b[49m\u001b[43msocket_options\u001b[49m\u001b[38;5;241;43m=\u001b[39;49m\u001b[38;5;28;43mself\u001b[39;49m\u001b[38;5;241;43m.\u001b[39;49m\u001b[43msocket_options\u001b[49m\u001b[43m,\u001b[49m\n\u001b[1;32m    208\u001b[0m \u001b[43m    \u001b[49m\u001b[43m)\u001b[49m\n\u001b[1;32m    209\u001b[0m \u001b[38;5;28;01mexcept\u001b[39;00m socket\u001b[38;5;241m.\u001b[39mgaierror \u001b[38;5;28;01mas\u001b[39;00m e:\n",
      "File \u001b[0;32m/opt/conda/lib/python3.10/site-packages/urllib3/util/connection.py:60\u001b[0m, in \u001b[0;36mcreate_connection\u001b[0;34m(address, timeout, source_address, socket_options)\u001b[0m\n\u001b[1;32m     58\u001b[0m     \u001b[38;5;28;01mraise\u001b[39;00m LocationParseError(\u001b[38;5;124mf\u001b[39m\u001b[38;5;124m\"\u001b[39m\u001b[38;5;124m'\u001b[39m\u001b[38;5;132;01m{\u001b[39;00mhost\u001b[38;5;132;01m}\u001b[39;00m\u001b[38;5;124m'\u001b[39m\u001b[38;5;124m, label empty or too long\u001b[39m\u001b[38;5;124m\"\u001b[39m) \u001b[38;5;28;01mfrom\u001b[39;00m \u001b[38;5;28;01mNone\u001b[39;00m\n\u001b[0;32m---> 60\u001b[0m \u001b[38;5;28;01mfor\u001b[39;00m res \u001b[38;5;129;01min\u001b[39;00m \u001b[43msocket\u001b[49m\u001b[38;5;241;43m.\u001b[39;49m\u001b[43mgetaddrinfo\u001b[49m\u001b[43m(\u001b[49m\u001b[43mhost\u001b[49m\u001b[43m,\u001b[49m\u001b[43m \u001b[49m\u001b[43mport\u001b[49m\u001b[43m,\u001b[49m\u001b[43m \u001b[49m\u001b[43mfamily\u001b[49m\u001b[43m,\u001b[49m\u001b[43m \u001b[49m\u001b[43msocket\u001b[49m\u001b[38;5;241;43m.\u001b[39;49m\u001b[43mSOCK_STREAM\u001b[49m\u001b[43m)\u001b[49m:\n\u001b[1;32m     61\u001b[0m     af, socktype, proto, canonname, sa \u001b[38;5;241m=\u001b[39m res\n",
      "File \u001b[0;32m/opt/conda/lib/python3.10/socket.py:955\u001b[0m, in \u001b[0;36mgetaddrinfo\u001b[0;34m(host, port, family, type, proto, flags)\u001b[0m\n\u001b[1;32m    954\u001b[0m addrlist \u001b[38;5;241m=\u001b[39m []\n\u001b[0;32m--> 955\u001b[0m \u001b[38;5;28;01mfor\u001b[39;00m res \u001b[38;5;129;01min\u001b[39;00m \u001b[43m_socket\u001b[49m\u001b[38;5;241;43m.\u001b[39;49m\u001b[43mgetaddrinfo\u001b[49m\u001b[43m(\u001b[49m\u001b[43mhost\u001b[49m\u001b[43m,\u001b[49m\u001b[43m \u001b[49m\u001b[43mport\u001b[49m\u001b[43m,\u001b[49m\u001b[43m \u001b[49m\u001b[43mfamily\u001b[49m\u001b[43m,\u001b[49m\u001b[43m \u001b[49m\u001b[38;5;28;43mtype\u001b[39;49m\u001b[43m,\u001b[49m\u001b[43m \u001b[49m\u001b[43mproto\u001b[49m\u001b[43m,\u001b[49m\u001b[43m \u001b[49m\u001b[43mflags\u001b[49m\u001b[43m)\u001b[49m:\n\u001b[1;32m    956\u001b[0m     af, socktype, proto, canonname, sa \u001b[38;5;241m=\u001b[39m res\n",
      "\u001b[0;31mgaierror\u001b[0m: [Errno -3] Temporary failure in name resolution",
      "\nThe above exception was the direct cause of the following exception:\n",
      "\u001b[0;31mNameResolutionError\u001b[0m                       Traceback (most recent call last)",
      "File \u001b[0;32m/opt/conda/lib/python3.10/site-packages/urllib3/connectionpool.py:790\u001b[0m, in \u001b[0;36mHTTPConnectionPool.urlopen\u001b[0;34m(self, method, url, body, headers, retries, redirect, assert_same_host, timeout, pool_timeout, release_conn, chunked, body_pos, preload_content, decode_content, **response_kw)\u001b[0m\n\u001b[1;32m    789\u001b[0m \u001b[38;5;66;03m# Make the request on the HTTPConnection object\u001b[39;00m\n\u001b[0;32m--> 790\u001b[0m response \u001b[38;5;241m=\u001b[39m \u001b[38;5;28;43mself\u001b[39;49m\u001b[38;5;241;43m.\u001b[39;49m\u001b[43m_make_request\u001b[49m\u001b[43m(\u001b[49m\n\u001b[1;32m    791\u001b[0m \u001b[43m    \u001b[49m\u001b[43mconn\u001b[49m\u001b[43m,\u001b[49m\n\u001b[1;32m    792\u001b[0m \u001b[43m    \u001b[49m\u001b[43mmethod\u001b[49m\u001b[43m,\u001b[49m\n\u001b[1;32m    793\u001b[0m \u001b[43m    \u001b[49m\u001b[43murl\u001b[49m\u001b[43m,\u001b[49m\n\u001b[1;32m    794\u001b[0m \u001b[43m    \u001b[49m\u001b[43mtimeout\u001b[49m\u001b[38;5;241;43m=\u001b[39;49m\u001b[43mtimeout_obj\u001b[49m\u001b[43m,\u001b[49m\n\u001b[1;32m    795\u001b[0m \u001b[43m    \u001b[49m\u001b[43mbody\u001b[49m\u001b[38;5;241;43m=\u001b[39;49m\u001b[43mbody\u001b[49m\u001b[43m,\u001b[49m\n\u001b[1;32m    796\u001b[0m \u001b[43m    \u001b[49m\u001b[43mheaders\u001b[49m\u001b[38;5;241;43m=\u001b[39;49m\u001b[43mheaders\u001b[49m\u001b[43m,\u001b[49m\n\u001b[1;32m    797\u001b[0m \u001b[43m    \u001b[49m\u001b[43mchunked\u001b[49m\u001b[38;5;241;43m=\u001b[39;49m\u001b[43mchunked\u001b[49m\u001b[43m,\u001b[49m\n\u001b[1;32m    798\u001b[0m \u001b[43m    \u001b[49m\u001b[43mretries\u001b[49m\u001b[38;5;241;43m=\u001b[39;49m\u001b[43mretries\u001b[49m\u001b[43m,\u001b[49m\n\u001b[1;32m    799\u001b[0m \u001b[43m    \u001b[49m\u001b[43mresponse_conn\u001b[49m\u001b[38;5;241;43m=\u001b[39;49m\u001b[43mresponse_conn\u001b[49m\u001b[43m,\u001b[49m\n\u001b[1;32m    800\u001b[0m \u001b[43m    \u001b[49m\u001b[43mpreload_content\u001b[49m\u001b[38;5;241;43m=\u001b[39;49m\u001b[43mpreload_content\u001b[49m\u001b[43m,\u001b[49m\n\u001b[1;32m    801\u001b[0m \u001b[43m    \u001b[49m\u001b[43mdecode_content\u001b[49m\u001b[38;5;241;43m=\u001b[39;49m\u001b[43mdecode_content\u001b[49m\u001b[43m,\u001b[49m\n\u001b[1;32m    802\u001b[0m \u001b[43m    \u001b[49m\u001b[38;5;241;43m*\u001b[39;49m\u001b[38;5;241;43m*\u001b[39;49m\u001b[43mresponse_kw\u001b[49m\u001b[43m,\u001b[49m\n\u001b[1;32m    803\u001b[0m \u001b[43m\u001b[49m\u001b[43m)\u001b[49m\n\u001b[1;32m    805\u001b[0m \u001b[38;5;66;03m# Everything went great!\u001b[39;00m\n",
      "File \u001b[0;32m/opt/conda/lib/python3.10/site-packages/urllib3/connectionpool.py:491\u001b[0m, in \u001b[0;36mHTTPConnectionPool._make_request\u001b[0;34m(self, conn, method, url, body, headers, retries, timeout, chunked, response_conn, preload_content, decode_content, enforce_content_length)\u001b[0m\n\u001b[1;32m    490\u001b[0m         new_e \u001b[38;5;241m=\u001b[39m _wrap_proxy_error(new_e, conn\u001b[38;5;241m.\u001b[39mproxy\u001b[38;5;241m.\u001b[39mscheme)\n\u001b[0;32m--> 491\u001b[0m     \u001b[38;5;28;01mraise\u001b[39;00m new_e\n\u001b[1;32m    493\u001b[0m \u001b[38;5;66;03m# conn.request() calls http.client.*.request, not the method in\u001b[39;00m\n\u001b[1;32m    494\u001b[0m \u001b[38;5;66;03m# urllib3.request. It also calls makefile (recv) on the socket.\u001b[39;00m\n",
      "File \u001b[0;32m/opt/conda/lib/python3.10/site-packages/urllib3/connectionpool.py:467\u001b[0m, in \u001b[0;36mHTTPConnectionPool._make_request\u001b[0;34m(self, conn, method, url, body, headers, retries, timeout, chunked, response_conn, preload_content, decode_content, enforce_content_length)\u001b[0m\n\u001b[1;32m    466\u001b[0m \u001b[38;5;28;01mtry\u001b[39;00m:\n\u001b[0;32m--> 467\u001b[0m     \u001b[38;5;28;43mself\u001b[39;49m\u001b[38;5;241;43m.\u001b[39;49m\u001b[43m_validate_conn\u001b[49m\u001b[43m(\u001b[49m\u001b[43mconn\u001b[49m\u001b[43m)\u001b[49m\n\u001b[1;32m    468\u001b[0m \u001b[38;5;28;01mexcept\u001b[39;00m (SocketTimeout, BaseSSLError) \u001b[38;5;28;01mas\u001b[39;00m e:\n",
      "File \u001b[0;32m/opt/conda/lib/python3.10/site-packages/urllib3/connectionpool.py:1096\u001b[0m, in \u001b[0;36mHTTPSConnectionPool._validate_conn\u001b[0;34m(self, conn)\u001b[0m\n\u001b[1;32m   1095\u001b[0m \u001b[38;5;28;01mif\u001b[39;00m conn\u001b[38;5;241m.\u001b[39mis_closed:\n\u001b[0;32m-> 1096\u001b[0m     \u001b[43mconn\u001b[49m\u001b[38;5;241;43m.\u001b[39;49m\u001b[43mconnect\u001b[49m\u001b[43m(\u001b[49m\u001b[43m)\u001b[49m\n\u001b[1;32m   1098\u001b[0m \u001b[38;5;28;01mif\u001b[39;00m \u001b[38;5;129;01mnot\u001b[39;00m conn\u001b[38;5;241m.\u001b[39mis_verified:\n",
      "File \u001b[0;32m/opt/conda/lib/python3.10/site-packages/urllib3/connection.py:611\u001b[0m, in \u001b[0;36mHTTPSConnection.connect\u001b[0;34m(self)\u001b[0m\n\u001b[1;32m    610\u001b[0m sock: socket\u001b[38;5;241m.\u001b[39msocket \u001b[38;5;241m|\u001b[39m ssl\u001b[38;5;241m.\u001b[39mSSLSocket\n\u001b[0;32m--> 611\u001b[0m \u001b[38;5;28mself\u001b[39m\u001b[38;5;241m.\u001b[39msock \u001b[38;5;241m=\u001b[39m sock \u001b[38;5;241m=\u001b[39m \u001b[38;5;28;43mself\u001b[39;49m\u001b[38;5;241;43m.\u001b[39;49m\u001b[43m_new_conn\u001b[49m\u001b[43m(\u001b[49m\u001b[43m)\u001b[49m\n\u001b[1;32m    612\u001b[0m server_hostname: \u001b[38;5;28mstr\u001b[39m \u001b[38;5;241m=\u001b[39m \u001b[38;5;28mself\u001b[39m\u001b[38;5;241m.\u001b[39mhost\n",
      "File \u001b[0;32m/opt/conda/lib/python3.10/site-packages/urllib3/connection.py:210\u001b[0m, in \u001b[0;36mHTTPConnection._new_conn\u001b[0;34m(self)\u001b[0m\n\u001b[1;32m    209\u001b[0m \u001b[38;5;28;01mexcept\u001b[39;00m socket\u001b[38;5;241m.\u001b[39mgaierror \u001b[38;5;28;01mas\u001b[39;00m e:\n\u001b[0;32m--> 210\u001b[0m     \u001b[38;5;28;01mraise\u001b[39;00m NameResolutionError(\u001b[38;5;28mself\u001b[39m\u001b[38;5;241m.\u001b[39mhost, \u001b[38;5;28mself\u001b[39m, e) \u001b[38;5;28;01mfrom\u001b[39;00m \u001b[38;5;21;01me\u001b[39;00m\n\u001b[1;32m    211\u001b[0m \u001b[38;5;28;01mexcept\u001b[39;00m SocketTimeout \u001b[38;5;28;01mas\u001b[39;00m e:\n",
      "\u001b[0;31mNameResolutionError\u001b[0m: <urllib3.connection.HTTPSConnection object at 0x7a32a8133df0>: Failed to resolve 'github.com' ([Errno -3] Temporary failure in name resolution)",
      "\nThe above exception was the direct cause of the following exception:\n",
      "\u001b[0;31mMaxRetryError\u001b[0m                             Traceback (most recent call last)",
      "File \u001b[0;32m/opt/conda/lib/python3.10/site-packages/requests/adapters.py:667\u001b[0m, in \u001b[0;36mHTTPAdapter.send\u001b[0;34m(self, request, stream, timeout, verify, cert, proxies)\u001b[0m\n\u001b[1;32m    666\u001b[0m \u001b[38;5;28;01mtry\u001b[39;00m:\n\u001b[0;32m--> 667\u001b[0m     resp \u001b[38;5;241m=\u001b[39m \u001b[43mconn\u001b[49m\u001b[38;5;241;43m.\u001b[39;49m\u001b[43murlopen\u001b[49m\u001b[43m(\u001b[49m\n\u001b[1;32m    668\u001b[0m \u001b[43m        \u001b[49m\u001b[43mmethod\u001b[49m\u001b[38;5;241;43m=\u001b[39;49m\u001b[43mrequest\u001b[49m\u001b[38;5;241;43m.\u001b[39;49m\u001b[43mmethod\u001b[49m\u001b[43m,\u001b[49m\n\u001b[1;32m    669\u001b[0m \u001b[43m        \u001b[49m\u001b[43murl\u001b[49m\u001b[38;5;241;43m=\u001b[39;49m\u001b[43murl\u001b[49m\u001b[43m,\u001b[49m\n\u001b[1;32m    670\u001b[0m \u001b[43m        \u001b[49m\u001b[43mbody\u001b[49m\u001b[38;5;241;43m=\u001b[39;49m\u001b[43mrequest\u001b[49m\u001b[38;5;241;43m.\u001b[39;49m\u001b[43mbody\u001b[49m\u001b[43m,\u001b[49m\n\u001b[1;32m    671\u001b[0m \u001b[43m        \u001b[49m\u001b[43mheaders\u001b[49m\u001b[38;5;241;43m=\u001b[39;49m\u001b[43mrequest\u001b[49m\u001b[38;5;241;43m.\u001b[39;49m\u001b[43mheaders\u001b[49m\u001b[43m,\u001b[49m\n\u001b[1;32m    672\u001b[0m \u001b[43m        \u001b[49m\u001b[43mredirect\u001b[49m\u001b[38;5;241;43m=\u001b[39;49m\u001b[38;5;28;43;01mFalse\u001b[39;49;00m\u001b[43m,\u001b[49m\n\u001b[1;32m    673\u001b[0m \u001b[43m        \u001b[49m\u001b[43massert_same_host\u001b[49m\u001b[38;5;241;43m=\u001b[39;49m\u001b[38;5;28;43;01mFalse\u001b[39;49;00m\u001b[43m,\u001b[49m\n\u001b[1;32m    674\u001b[0m \u001b[43m        \u001b[49m\u001b[43mpreload_content\u001b[49m\u001b[38;5;241;43m=\u001b[39;49m\u001b[38;5;28;43;01mFalse\u001b[39;49;00m\u001b[43m,\u001b[49m\n\u001b[1;32m    675\u001b[0m \u001b[43m        \u001b[49m\u001b[43mdecode_content\u001b[49m\u001b[38;5;241;43m=\u001b[39;49m\u001b[38;5;28;43;01mFalse\u001b[39;49;00m\u001b[43m,\u001b[49m\n\u001b[1;32m    676\u001b[0m \u001b[43m        \u001b[49m\u001b[43mretries\u001b[49m\u001b[38;5;241;43m=\u001b[39;49m\u001b[38;5;28;43mself\u001b[39;49m\u001b[38;5;241;43m.\u001b[39;49m\u001b[43mmax_retries\u001b[49m\u001b[43m,\u001b[49m\n\u001b[1;32m    677\u001b[0m \u001b[43m        \u001b[49m\u001b[43mtimeout\u001b[49m\u001b[38;5;241;43m=\u001b[39;49m\u001b[43mtimeout\u001b[49m\u001b[43m,\u001b[49m\n\u001b[1;32m    678\u001b[0m \u001b[43m        \u001b[49m\u001b[43mchunked\u001b[49m\u001b[38;5;241;43m=\u001b[39;49m\u001b[43mchunked\u001b[49m\u001b[43m,\u001b[49m\n\u001b[1;32m    679\u001b[0m \u001b[43m    \u001b[49m\u001b[43m)\u001b[49m\n\u001b[1;32m    681\u001b[0m \u001b[38;5;28;01mexcept\u001b[39;00m (ProtocolError, \u001b[38;5;167;01mOSError\u001b[39;00m) \u001b[38;5;28;01mas\u001b[39;00m err:\n",
      "File \u001b[0;32m/opt/conda/lib/python3.10/site-packages/urllib3/connectionpool.py:844\u001b[0m, in \u001b[0;36mHTTPConnectionPool.urlopen\u001b[0;34m(self, method, url, body, headers, retries, redirect, assert_same_host, timeout, pool_timeout, release_conn, chunked, body_pos, preload_content, decode_content, **response_kw)\u001b[0m\n\u001b[1;32m    842\u001b[0m     new_e \u001b[38;5;241m=\u001b[39m ProtocolError(\u001b[38;5;124m\"\u001b[39m\u001b[38;5;124mConnection aborted.\u001b[39m\u001b[38;5;124m\"\u001b[39m, new_e)\n\u001b[0;32m--> 844\u001b[0m retries \u001b[38;5;241m=\u001b[39m \u001b[43mretries\u001b[49m\u001b[38;5;241;43m.\u001b[39;49m\u001b[43mincrement\u001b[49m\u001b[43m(\u001b[49m\n\u001b[1;32m    845\u001b[0m \u001b[43m    \u001b[49m\u001b[43mmethod\u001b[49m\u001b[43m,\u001b[49m\u001b[43m \u001b[49m\u001b[43murl\u001b[49m\u001b[43m,\u001b[49m\u001b[43m \u001b[49m\u001b[43merror\u001b[49m\u001b[38;5;241;43m=\u001b[39;49m\u001b[43mnew_e\u001b[49m\u001b[43m,\u001b[49m\u001b[43m \u001b[49m\u001b[43m_pool\u001b[49m\u001b[38;5;241;43m=\u001b[39;49m\u001b[38;5;28;43mself\u001b[39;49m\u001b[43m,\u001b[49m\u001b[43m \u001b[49m\u001b[43m_stacktrace\u001b[49m\u001b[38;5;241;43m=\u001b[39;49m\u001b[43msys\u001b[49m\u001b[38;5;241;43m.\u001b[39;49m\u001b[43mexc_info\u001b[49m\u001b[43m(\u001b[49m\u001b[43m)\u001b[49m\u001b[43m[\u001b[49m\u001b[38;5;241;43m2\u001b[39;49m\u001b[43m]\u001b[49m\n\u001b[1;32m    846\u001b[0m \u001b[43m\u001b[49m\u001b[43m)\u001b[49m\n\u001b[1;32m    847\u001b[0m retries\u001b[38;5;241m.\u001b[39msleep()\n",
      "File \u001b[0;32m/opt/conda/lib/python3.10/site-packages/urllib3/util/retry.py:515\u001b[0m, in \u001b[0;36mRetry.increment\u001b[0;34m(self, method, url, response, error, _pool, _stacktrace)\u001b[0m\n\u001b[1;32m    514\u001b[0m     reason \u001b[38;5;241m=\u001b[39m error \u001b[38;5;129;01mor\u001b[39;00m ResponseError(cause)\n\u001b[0;32m--> 515\u001b[0m     \u001b[38;5;28;01mraise\u001b[39;00m MaxRetryError(_pool, url, reason) \u001b[38;5;28;01mfrom\u001b[39;00m \u001b[38;5;21;01mreason\u001b[39;00m  \u001b[38;5;66;03m# type: ignore[arg-type]\u001b[39;00m\n\u001b[1;32m    517\u001b[0m log\u001b[38;5;241m.\u001b[39mdebug(\u001b[38;5;124m\"\u001b[39m\u001b[38;5;124mIncremented Retry for (url=\u001b[39m\u001b[38;5;124m'\u001b[39m\u001b[38;5;132;01m%s\u001b[39;00m\u001b[38;5;124m'\u001b[39m\u001b[38;5;124m): \u001b[39m\u001b[38;5;132;01m%r\u001b[39;00m\u001b[38;5;124m\"\u001b[39m, url, new_retry)\n",
      "\u001b[0;31mMaxRetryError\u001b[0m: HTTPSConnectionPool(host='github.com', port=443): Max retries exceeded with url: /thisisjasonjafari/my-datascientise-handcode/raw/master/005-datavisualization/titanic.csv (Caused by NameResolutionError(\"<urllib3.connection.HTTPSConnection object at 0x7a32a8133df0>: Failed to resolve 'github.com' ([Errno -3] Temporary failure in name resolution)\"))",
      "\nDuring handling of the above exception, another exception occurred:\n",
      "\u001b[0;31mConnectionError\u001b[0m                           Traceback (most recent call last)",
      "Cell \u001b[0;32mIn[28], line 10\u001b[0m\n\u001b[1;32m      7\u001b[0m \u001b[38;5;28;01mimport\u001b[39;00m \u001b[38;5;21;01mpandas\u001b[39;00m \u001b[38;5;28;01mas\u001b[39;00m \u001b[38;5;21;01mpd\u001b[39;00m\n\u001b[1;32m      9\u001b[0m url\u001b[38;5;241m=\u001b[39m\u001b[38;5;124m\"\u001b[39m\u001b[38;5;124mhttps://github.com/thisisjasonjafari/my-datascientise-handcode/raw/master/005-datavisualization/titanic.csv\u001b[39m\u001b[38;5;124m\"\u001b[39m\n\u001b[0;32m---> 10\u001b[0m s\u001b[38;5;241m=\u001b[39m\u001b[43mrequests\u001b[49m\u001b[38;5;241;43m.\u001b[39;49m\u001b[43mget\u001b[49m\u001b[43m(\u001b[49m\u001b[43murl\u001b[49m\u001b[43m)\u001b[49m\u001b[38;5;241m.\u001b[39mcontent\n\u001b[1;32m     11\u001b[0m c\u001b[38;5;241m=\u001b[39mpd\u001b[38;5;241m.\u001b[39mread_csv(io\u001b[38;5;241m.\u001b[39mStringIO(s\u001b[38;5;241m.\u001b[39mdecode(\u001b[38;5;124m'\u001b[39m\u001b[38;5;124mutf-8\u001b[39m\u001b[38;5;124m'\u001b[39m)))\n\u001b[1;32m     13\u001b[0m test_data_with_labels \u001b[38;5;241m=\u001b[39m c\n",
      "File \u001b[0;32m/opt/conda/lib/python3.10/site-packages/requests/api.py:73\u001b[0m, in \u001b[0;36mget\u001b[0;34m(url, params, **kwargs)\u001b[0m\n\u001b[1;32m     62\u001b[0m \u001b[38;5;28;01mdef\u001b[39;00m \u001b[38;5;21mget\u001b[39m(url, params\u001b[38;5;241m=\u001b[39m\u001b[38;5;28;01mNone\u001b[39;00m, \u001b[38;5;241m*\u001b[39m\u001b[38;5;241m*\u001b[39mkwargs):\n\u001b[1;32m     63\u001b[0m \u001b[38;5;250m    \u001b[39m\u001b[38;5;124mr\u001b[39m\u001b[38;5;124;03m\"\"\"Sends a GET request.\u001b[39;00m\n\u001b[1;32m     64\u001b[0m \n\u001b[1;32m     65\u001b[0m \u001b[38;5;124;03m    :param url: URL for the new :class:`Request` object.\u001b[39;00m\n\u001b[0;32m   (...)\u001b[0m\n\u001b[1;32m     70\u001b[0m \u001b[38;5;124;03m    :rtype: requests.Response\u001b[39;00m\n\u001b[1;32m     71\u001b[0m \u001b[38;5;124;03m    \"\"\"\u001b[39;00m\n\u001b[0;32m---> 73\u001b[0m     \u001b[38;5;28;01mreturn\u001b[39;00m \u001b[43mrequest\u001b[49m\u001b[43m(\u001b[49m\u001b[38;5;124;43m\"\u001b[39;49m\u001b[38;5;124;43mget\u001b[39;49m\u001b[38;5;124;43m\"\u001b[39;49m\u001b[43m,\u001b[49m\u001b[43m \u001b[49m\u001b[43murl\u001b[49m\u001b[43m,\u001b[49m\u001b[43m \u001b[49m\u001b[43mparams\u001b[49m\u001b[38;5;241;43m=\u001b[39;49m\u001b[43mparams\u001b[49m\u001b[43m,\u001b[49m\u001b[43m \u001b[49m\u001b[38;5;241;43m*\u001b[39;49m\u001b[38;5;241;43m*\u001b[39;49m\u001b[43mkwargs\u001b[49m\u001b[43m)\u001b[49m\n",
      "File \u001b[0;32m/opt/conda/lib/python3.10/site-packages/requests/api.py:59\u001b[0m, in \u001b[0;36mrequest\u001b[0;34m(method, url, **kwargs)\u001b[0m\n\u001b[1;32m     55\u001b[0m \u001b[38;5;66;03m# By using the 'with' statement we are sure the session is closed, thus we\u001b[39;00m\n\u001b[1;32m     56\u001b[0m \u001b[38;5;66;03m# avoid leaving sockets open which can trigger a ResourceWarning in some\u001b[39;00m\n\u001b[1;32m     57\u001b[0m \u001b[38;5;66;03m# cases, and look like a memory leak in others.\u001b[39;00m\n\u001b[1;32m     58\u001b[0m \u001b[38;5;28;01mwith\u001b[39;00m sessions\u001b[38;5;241m.\u001b[39mSession() \u001b[38;5;28;01mas\u001b[39;00m session:\n\u001b[0;32m---> 59\u001b[0m     \u001b[38;5;28;01mreturn\u001b[39;00m \u001b[43msession\u001b[49m\u001b[38;5;241;43m.\u001b[39;49m\u001b[43mrequest\u001b[49m\u001b[43m(\u001b[49m\u001b[43mmethod\u001b[49m\u001b[38;5;241;43m=\u001b[39;49m\u001b[43mmethod\u001b[49m\u001b[43m,\u001b[49m\u001b[43m \u001b[49m\u001b[43murl\u001b[49m\u001b[38;5;241;43m=\u001b[39;49m\u001b[43murl\u001b[49m\u001b[43m,\u001b[49m\u001b[43m \u001b[49m\u001b[38;5;241;43m*\u001b[39;49m\u001b[38;5;241;43m*\u001b[39;49m\u001b[43mkwargs\u001b[49m\u001b[43m)\u001b[49m\n",
      "File \u001b[0;32m/opt/conda/lib/python3.10/site-packages/requests/sessions.py:589\u001b[0m, in \u001b[0;36mSession.request\u001b[0;34m(self, method, url, params, data, headers, cookies, files, auth, timeout, allow_redirects, proxies, hooks, stream, verify, cert, json)\u001b[0m\n\u001b[1;32m    584\u001b[0m send_kwargs \u001b[38;5;241m=\u001b[39m {\n\u001b[1;32m    585\u001b[0m     \u001b[38;5;124m\"\u001b[39m\u001b[38;5;124mtimeout\u001b[39m\u001b[38;5;124m\"\u001b[39m: timeout,\n\u001b[1;32m    586\u001b[0m     \u001b[38;5;124m\"\u001b[39m\u001b[38;5;124mallow_redirects\u001b[39m\u001b[38;5;124m\"\u001b[39m: allow_redirects,\n\u001b[1;32m    587\u001b[0m }\n\u001b[1;32m    588\u001b[0m send_kwargs\u001b[38;5;241m.\u001b[39mupdate(settings)\n\u001b[0;32m--> 589\u001b[0m resp \u001b[38;5;241m=\u001b[39m \u001b[38;5;28;43mself\u001b[39;49m\u001b[38;5;241;43m.\u001b[39;49m\u001b[43msend\u001b[49m\u001b[43m(\u001b[49m\u001b[43mprep\u001b[49m\u001b[43m,\u001b[49m\u001b[43m \u001b[49m\u001b[38;5;241;43m*\u001b[39;49m\u001b[38;5;241;43m*\u001b[39;49m\u001b[43msend_kwargs\u001b[49m\u001b[43m)\u001b[49m\n\u001b[1;32m    591\u001b[0m \u001b[38;5;28;01mreturn\u001b[39;00m resp\n",
      "File \u001b[0;32m/opt/conda/lib/python3.10/site-packages/requests/sessions.py:703\u001b[0m, in \u001b[0;36mSession.send\u001b[0;34m(self, request, **kwargs)\u001b[0m\n\u001b[1;32m    700\u001b[0m start \u001b[38;5;241m=\u001b[39m preferred_clock()\n\u001b[1;32m    702\u001b[0m \u001b[38;5;66;03m# Send the request\u001b[39;00m\n\u001b[0;32m--> 703\u001b[0m r \u001b[38;5;241m=\u001b[39m \u001b[43madapter\u001b[49m\u001b[38;5;241;43m.\u001b[39;49m\u001b[43msend\u001b[49m\u001b[43m(\u001b[49m\u001b[43mrequest\u001b[49m\u001b[43m,\u001b[49m\u001b[43m \u001b[49m\u001b[38;5;241;43m*\u001b[39;49m\u001b[38;5;241;43m*\u001b[39;49m\u001b[43mkwargs\u001b[49m\u001b[43m)\u001b[49m\n\u001b[1;32m    705\u001b[0m \u001b[38;5;66;03m# Total elapsed time of the request (approximately)\u001b[39;00m\n\u001b[1;32m    706\u001b[0m elapsed \u001b[38;5;241m=\u001b[39m preferred_clock() \u001b[38;5;241m-\u001b[39m start\n",
      "File \u001b[0;32m/opt/conda/lib/python3.10/site-packages/requests/adapters.py:700\u001b[0m, in \u001b[0;36mHTTPAdapter.send\u001b[0;34m(self, request, stream, timeout, verify, cert, proxies)\u001b[0m\n\u001b[1;32m    696\u001b[0m     \u001b[38;5;28;01mif\u001b[39;00m \u001b[38;5;28misinstance\u001b[39m(e\u001b[38;5;241m.\u001b[39mreason, _SSLError):\n\u001b[1;32m    697\u001b[0m         \u001b[38;5;66;03m# This branch is for urllib3 v1.22 and later.\u001b[39;00m\n\u001b[1;32m    698\u001b[0m         \u001b[38;5;28;01mraise\u001b[39;00m SSLError(e, request\u001b[38;5;241m=\u001b[39mrequest)\n\u001b[0;32m--> 700\u001b[0m     \u001b[38;5;28;01mraise\u001b[39;00m \u001b[38;5;167;01mConnectionError\u001b[39;00m(e, request\u001b[38;5;241m=\u001b[39mrequest)\n\u001b[1;32m    702\u001b[0m \u001b[38;5;28;01mexcept\u001b[39;00m ClosedPoolError \u001b[38;5;28;01mas\u001b[39;00m e:\n\u001b[1;32m    703\u001b[0m     \u001b[38;5;28;01mraise\u001b[39;00m \u001b[38;5;167;01mConnectionError\u001b[39;00m(e, request\u001b[38;5;241m=\u001b[39mrequest)\n",
      "\u001b[0;31mConnectionError\u001b[0m: HTTPSConnectionPool(host='github.com', port=443): Max retries exceeded with url: /thisisjasonjafari/my-datascientise-handcode/raw/master/005-datavisualization/titanic.csv (Caused by NameResolutionError(\"<urllib3.connection.HTTPSConnection object at 0x7a32a8133df0>: Failed to resolve 'github.com' ([Errno -3] Temporary failure in name resolution)\"))"
     ]
    }
   ],
   "source": [
    "import os\n",
    "import re\n",
    "import warnings\n",
    "print(os.listdir(\"../input\"))\n",
    "import io\n",
    "import requests\n",
    "import pandas as pd\n",
    "\n",
    "url=\"https://github.com/thisisjasonjafari/my-datascientise-handcode/raw/master/005-datavisualization/titanic.csv\"\n",
    "s=requests.get(url).content\n",
    "c=pd.read_csv(io.StringIO(s.decode('utf-8')))\n",
    " \n",
    "test_data_with_labels = c\n",
    "test_data_1 = pd.read_csv('../input/titanic/test.csv')\n",
    "\n",
    "warnings.filterwarnings('ignore')\n",
    "\n",
    "for i, name in enumerate(test_data_with_labels['name']):\n",
    "    if '\"' in name:\n",
    "        test_data_with_labels['name'][i] = re.sub('\"', '', name)\n",
    "        \n",
    "for i, name in enumerate(test_data_1['Name']):\n",
    "    if '\"' in name:\n",
    "        test_data_1['Name'][i] = re.sub('\"', '', name)\n",
    "        \n",
    "survived = []\n",
    "\n",
    "for name in test_data_1['Name']:\n",
    "    survived.append(int(test_data_with_labels.loc[test_data_with_labels['name'] == name]['survived'].values[-1]))\n",
    "\n",
    "    \n",
    "submission = pd.read_csv('../input/titanic/gender_submission.csv')\n",
    "submission['Survived'] = survived\n",
    "submission.to_csv('final1submission.csv', index=False)\n",
    "pp=pd.read_csv('final1submission.csv')"
   ]
  },
  {
   "cell_type": "code",
   "execution_count": null,
   "id": "d91616ef",
   "metadata": {
    "execution": {
     "iopub.execute_input": "2024-08-05T00:49:02.803187Z",
     "iopub.status.busy": "2024-08-05T00:49:02.802180Z",
     "iopub.status.idle": "2024-08-05T00:49:02.885387Z",
     "shell.execute_reply": "2024-08-05T00:49:02.883809Z",
     "shell.execute_reply.started": "2024-08-05T00:49:02.803150Z"
    },
    "papermill": {
     "duration": null,
     "end_time": null,
     "exception": null,
     "start_time": null,
     "status": "pending"
    },
    "tags": []
   },
   "outputs": [],
   "source": [
    "from sklearn.svm import SVC\n",
    "\n",
    "X_train, X_test, y_train, y_test = train_test_split(X, y, test_size=0.3, random_state=42)\n",
    "\n",
    "# Standardize features\n",
    "scaler = StandardScaler()\n",
    "X_train = scaler.fit_transform(X_train)\n",
    "X_test = scaler.transform(X_test)\n",
    "\n",
    "# Initialize and train the model\n",
    "model = SVC(kernel='linear')\n",
    "model.fit(X_train, y_train)\n",
    "\n",
    "# Make predictions and evaluate\n",
    "y_pred = model.predict(X_test)\n",
    "print(\"Accuracy:\", accuracy_score(y_test, y_pred))\n",
    "print(\"Confusion Matrix:\\n\", confusion_matrix(y_test, y_pred))\n",
    "print(\"Classification Report:\\n\", classification_report(y_test, y_pred))\n",
    "# Comparing with actual Output\n",
    "predictions = model.predict(test_data)\n",
    "output = pd.DataFrame({'PassengerId': output_data['PassengerId'], 'Survived': predictions})\n",
    "\n",
    "differences = output[output['Survived'] != pp['Survived']]\n",
    "print(differences)"
   ]
  },
  {
   "cell_type": "code",
   "execution_count": null,
   "id": "1d00938f",
   "metadata": {
    "execution": {
     "iopub.execute_input": "2024-08-05T00:49:16.545769Z",
     "iopub.status.busy": "2024-08-05T00:49:16.544803Z",
     "iopub.status.idle": "2024-08-05T00:49:16.567071Z",
     "shell.execute_reply": "2024-08-05T00:49:16.565773Z",
     "shell.execute_reply.started": "2024-08-05T00:49:16.545731Z"
    },
    "papermill": {
     "duration": null,
     "end_time": null,
     "exception": null,
     "start_time": null,
     "status": "pending"
    },
    "tags": []
   },
   "outputs": [],
   "source": [
    "predictions = final_model_RF.predict(test_data)\n",
    "\n",
    "# Create and save the submission file\n",
    "output = pd.DataFrame({'PassengerId': output_data['PassengerId'], 'Survived': predictions})\n",
    "output.to_csv('Final_submission.csv', index=False)\n",
    "\n",
    "xr = pd.read_csv('Final_submission.csv')"
   ]
  },
  {
   "cell_type": "code",
   "execution_count": null,
   "id": "f21a9de5",
   "metadata": {
    "execution": {
     "iopub.execute_input": "2024-08-05T00:49:20.337218Z",
     "iopub.status.busy": "2024-08-05T00:49:20.336801Z",
     "iopub.status.idle": "2024-08-05T00:49:20.347593Z",
     "shell.execute_reply": "2024-08-05T00:49:20.346316Z",
     "shell.execute_reply.started": "2024-08-05T00:49:20.337185Z"
    },
    "papermill": {
     "duration": null,
     "end_time": null,
     "exception": null,
     "start_time": null,
     "status": "pending"
    },
    "tags": []
   },
   "outputs": [],
   "source": [
    "xr.head()"
   ]
  }
 ],
 "metadata": {
  "kaggle": {
   "accelerator": "none",
   "dataSources": [
    {
     "databundleVersionId": 26502,
     "sourceId": 3136,
     "sourceType": "competition"
    },
    {
     "datasetId": 5494570,
     "sourceId": 9104023,
     "sourceType": "datasetVersion"
    }
   ],
   "dockerImageVersionId": 30746,
   "isGpuEnabled": false,
   "isInternetEnabled": false,
   "language": "python",
   "sourceType": "notebook"
  },
  "kernelspec": {
   "display_name": "Python 3",
   "language": "python",
   "name": "python3"
  },
  "language_info": {
   "codemirror_mode": {
    "name": "ipython",
    "version": 3
   },
   "file_extension": ".py",
   "mimetype": "text/x-python",
   "name": "python",
   "nbconvert_exporter": "python",
   "pygments_lexer": "ipython3",
   "version": "3.10.13"
  },
  "papermill": {
   "default_parameters": {},
   "duration": 36.087267,
   "end_time": "2024-08-05T00:51:45.295879",
   "environment_variables": {},
   "exception": true,
   "input_path": "__notebook__.ipynb",
   "output_path": "__notebook__.ipynb",
   "parameters": {},
   "start_time": "2024-08-05T00:51:09.208612",
   "version": "2.5.0"
  }
 },
 "nbformat": 4,
 "nbformat_minor": 5
}
